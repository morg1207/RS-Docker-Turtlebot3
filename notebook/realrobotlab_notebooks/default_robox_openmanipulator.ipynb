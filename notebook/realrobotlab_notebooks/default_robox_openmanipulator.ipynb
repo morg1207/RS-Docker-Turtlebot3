{
 "cells": [
  {
   "cell_type": "markdown",
   "metadata": {},
   "source": [
    "# RoBoX RobotArm quick-start guide"
   ]
  },
  {
   "cell_type": "markdown",
   "metadata": {},
   "source": [
    "<img src=\"images/realrobotlab_notebooks/robox_thumbnail.png\"/>"
   ]
  },
  {
   "cell_type": "markdown",
   "metadata": {},
   "source": [
    "Welcome to RoBoX Remote Lab! One of the first cloud based, ROS ready and live connection real robot labs in the world.\n",
    "\n",
    "In this guide you will find the instructions needed for:\n",
    "\n",
    "\n",
    "* How to start a **RobotArm simulation of the RoBoX environment**\n",
    "* **Move the RobotArm through a GUI**.\n",
    "* Start **MoveIt** and move the arm using it.\n",
    "* **Detect Surfaces and a Cube** using a pointcloud sensor.\n",
    "* **Connecting to the real robot** and execute the same algorithms with real robot sensor data.\n",
    "\n",
    "\n",
    "But as you can imagine, this is just a few first steps:\n",
    "\n",
    "You can use RoBoX to develop robot algorithms of AI Trainig, Grasping, Object detection, DeepLearning, etc."
   ]
  },
  {
   "cell_type": "markdown",
   "metadata": {},
   "source": [
    "# Connect to Robot Arm\n",
    "\n",
    "Once you are inside the rosject and in your **BOOKED TIME**, a toggle for **turning on the connection** will appear at the bottom left corner of your screen:\n",
    "\n",
    "<img src=\"images/realrobotlab_notebooks/robotarm/robot_connect_off.png\"/>\n",
    "\n",
    "**WARNING: Nothing will appear unless you have a booking. So if you didnt make a booking in the dashboard, feel free to do so.**\n",
    "\n",
    "You now just have to click and it will start the **turning on process**. The terminals will be restarted and when the system is ready, you will be able to open them again.\n",
    "\n",
    "<img src=\"realrobotlab_notebooks/connect_robox.gif\" width=600/>\n",
    "<img src=\"realrobotlab_notebooks/disconnect_robox.gif\" width=600/>\n",
    "\n",
    "Now you should be able to do the following command to get a list of topics similar to this. It could take some extra 30 seconds to appear:"
   ]
  },
  {
   "cell_type": "code",
   "execution_count": null,
   "metadata": {},
   "outputs": [],
   "source": [
    "rostopic list"
   ]
  },
  {
   "cell_type": "markdown",
   "metadata": {},
   "source": [
    "<img src=\"images/realrobotlab_notebooks/robotarm/robox_arm_topics.png\"/>"
   ]
  },
  {
   "cell_type": "markdown",
   "metadata": {},
   "source": [
    "The robot icon at the bottom left side of your screen will turn green when it's connected\n",
    "\n",
    "<img src=\"images/realrobotlab_notebooks/robotarm/robot_connect_on.png\"/>\n",
    "\n",
    "And the stream feed will appear on your screen."
   ]
  },
  {
   "cell_type": "markdown",
   "metadata": {},
   "source": [
    "**NOTE:** Now, you can skip to **SECTION III** to execute commands that will move the real robot!"
   ]
  },
  {
   "cell_type": "markdown",
   "metadata": {},
   "source": [
    "# SECTION I - RoBoX Simulation\n",
    "\n",
    "This is an exact representation of the real environment used in RoBoX for Turtlebot3 what you see in the live stream at the home page of the construct:\n",
    "\n",
    "https://app.theconstructsim.com/#/RealRobot\n",
    "\n",
    "\n",
    "Also, if you have the robot reserved you will be able to access the live camera from the bottom pannel:\n",
    "\n",
    "<img src=\"images/realrobotlab_notebooks/livefeed.png\"/>\n",
    "\n",
    "<img src=\"images/realrobotlab_notebooks/robotarm/robox_openmanipulator.png\"/>\n",
    "\n",
    "\n",
    "\n",
    "Since the time slot allowed for connections for RoBoX is 30 minutes, you will probably want to use this simulation before and after your reservation to improve and test your programs. So don't worry if you feel like you didn't do everything you wanted with the OpenManipulator Robot Arm at RoBoX, this is why this simulation is here!\n"
   ]
  },
  {
   "cell_type": "markdown",
   "metadata": {},
   "source": [
    "## THANKS to Clarkson University and OpenManipulator project"
   ]
  },
  {
   "cell_type": "markdown",
   "metadata": {},
   "source": [
    "This project wouldnt be possible without the support of **Clarkson University**, and specially thanks to <a href=\"https://www.clarkson.edu/people/james-carroll\">James Carrol</a>, by providing this modified version of the **OpenManipulator**."
   ]
  },
  {
   "cell_type": "markdown",
   "metadata": {},
   "source": [
    "<img src=\"images/realrobotlab_notebooks/robotarm/clarkson.png\"/>"
   ]
  },
  {
   "cell_type": "markdown",
   "metadata": {},
   "source": [
    "Also thanks to the **OpenManipulator Project Creators**: <a href=\"https://github.com/ROBOTIS-GIT/open_manipulator\"/>ROBOTIS-GIT open_manipulator</a>"
   ]
  },
  {
   "cell_type": "markdown",
   "metadata": {},
   "source": [
    "Special thanks also to <a href=\"https://luxonis.com/\"/>LUXONIS</a> for providing a  <a href=\"https://shop.luxonis.com/collections/all/products/bw10980bc\"/>DepthAI LUX-D with Onboard Cameras (USB3C)</a>, that can be used to do perception.Check out the project <a href=\"https://luxonis.com/depthai\"/>DepthAI</a>."
   ]
  },
  {
   "cell_type": "markdown",
   "metadata": {},
   "source": [
    "<img src=\"images/realrobotlab_notebooks/robotarm/luxonis.png\"/>"
   ]
  },
  {
   "cell_type": "markdown",
   "metadata": {},
   "source": [
    "## How to Launch the Simulation\n",
    "To start the simulation, first we'll need to source our workspace:\n",
    "\n",
    "- Open a terminal window by clicking on the shell icon on the bottom left side of your screen:\n",
    "\n",
    "<img src=\"images/realrobotlab_notebooks/robotarm/desktop_tray.png\"/>\n",
    "<img src=\"images/realrobotlab_notebooks/robotarm/shell_icon.png\"/>\n",
    "\n",
    "- Copy and paste the following terminal commands in your shell:\n"
   ]
  },
  {
   "cell_type": "markdown",
   "metadata": {},
   "source": [
    "<table style=\"float:left;background: #407EAF\">\n",
    "<tr>\n",
    "<th>\n",
    "<p class=\"transparent\">Execute in WebShell #1</p>\n",
    "</th>\n",
    "</tr>\n",
    "</table>"
   ]
  },
  {
   "cell_type": "markdown",
   "metadata": {},
   "source": [
    "- This sets up our environment and launches the simulation. Run the following command on a shell:"
   ]
  },
  {
   "cell_type": "code",
   "execution_count": null,
   "metadata": {},
   "outputs": [],
   "source": [
    "roslaunch openmanipulator_morpheus_chair_tutorials start_simulation_rrl_safe.launch"
   ]
  },
  {
   "cell_type": "markdown",
   "metadata": {},
   "source": [
    "And that's it! You should be able to see the simulation and control everything as if it was the real robot if you go to the Gazebo button in the bottom left side of your screen:\n",
    "<img src=\"images/realrobotlab_notebooks/robotarm/gazebo_icon.png\"/>\n",
    "\n",
    "\n",
    "**Wait around 30 seconds maximum** for the simulation to start and you should see this simulation now:\n",
    "\n",
    "<img src=\"images/realrobotlab_notebooks/robotarm/arm_v3_intro.png\"/>\n",
    "\n",
    "This simulation includes the gazebo plugins that are necessary in order to control the OpenManipulator RobotArm. Once you switch to the real robot, things might be a little bit different. Make sure to go to the **RoBoX** Section."
   ]
  },
  {
   "cell_type": "markdown",
   "metadata": {},
   "source": [
    "# Moving Joints Through GUI\n",
    "\n",
    "Lets move the robot arme through a simple GUI. In this case we will use the **rqt_joint_trajectory_controller**"
   ]
  },
  {
   "cell_type": "markdown",
   "metadata": {},
   "source": [
    "Run the following commands in a new shell:"
   ]
  },
  {
   "cell_type": "markdown",
   "metadata": {},
   "source": [
    "To open  **NEW shell** just press the plus sign in the terminal window:"
   ]
  },
  {
   "cell_type": "markdown",
   "metadata": {},
   "source": [
    "<img src=\"realrobotlab_notebooks/terminal_new.png\"/>"
   ]
  },
  {
   "cell_type": "markdown",
   "metadata": {},
   "source": [
    "<table style=\"float:left;background: #407EAF\">\n",
    "<tr>\n",
    "<th>\n",
    "<p class=\"transparent\">Execute in WebShell #2</p>\n",
    "</th>\n",
    "</tr>\n",
    "</table>"
   ]
  },
  {
   "cell_type": "code",
   "execution_count": null,
   "metadata": {},
   "outputs": [],
   "source": [
    "rosrun rqt_joint_trajectory_controller rqt_joint_trajectory_controller"
   ]
  },
  {
   "cell_type": "markdown",
   "metadata": {},
   "source": [
    "This node starts a GUI that allows you to select the ARM or the Gripper controller and move it with sliders.\n",
    "To see this, click on the 'Graphical Tools' button on the bottom left side of your screen:\n",
    "<img src=\"images/realrobotlab_notebooks/robotarm/grphical_tools_ico.png\"/>"
   ]
  },
  {
   "cell_type": "markdown",
   "metadata": {},
   "source": [
    "You'll see a GUI like this:\n",
    "\n",
    "\n",
    "<img src=\"images/realrobotlab_notebooks/robotarm/rqt_joints_1.gif\"/>\n",
    "\n",
    "\n",
    "Here you can see how to move it:\n",
    "\n",
    "<img src=\"images/realrobotlab_notebooks/robotarm/arm_v3_rqtjointmove.gif\"/>\n",
    "\n"
   ]
  },
  {
   "cell_type": "markdown",
   "metadata": {},
   "source": [
    "## Move Using Moveit GUI\n",
    "\n",
    "For more complex movements and specially for grasping, moveit is vital in robot arms. Therefore you can launch Moveit lke this:"
   ]
  },
  {
   "cell_type": "markdown",
   "metadata": {},
   "source": [
    "<span style='background :orange' > First, STOP the rqt_joint_trajectory_controllerbecause it could interfere in the moveit commands. </span>\n",
    "\n"
   ]
  },
  {
   "cell_type": "markdown",
   "metadata": {},
   "source": [
    "<table style=\"float:left;background: #407EAF\">\n",
    "<tr>\n",
    "<th>\n",
    "<p class=\"transparent\">Execute in WebShell #2</p>\n",
    "</th>\n",
    "</tr>\n",
    "</table>"
   ]
  },
  {
   "cell_type": "raw",
   "metadata": {},
   "source": [
    "roslaunch openmanipulator_safe_moveit_v2 open_manipulator_planning_execution_safe_users.launch"
   ]
  },
  {
   "cell_type": "markdown",
   "metadata": {},
   "source": [
    "This launch starts the Moveit system that uses RVIZ adapted for Moveit systems.\n",
    "To see this, click on the 'Graphical Tools' button on the bottom left side of your screen:\n",
    "<img src=\"images/realrobotlab_notebooks/robotarm/grphical_tools_ico.png\"/>"
   ]
  },
  {
   "cell_type": "markdown",
   "metadata": {},
   "source": [
    "You can now use the planning system to select a presaved pose, set one yourself or even generate random valid joint configuration:\n",
    "\n",
    "<img src=\"images/realrobotlab_notebooks/robotarm/moveit_sfe_moving.gif\"/>"
   ]
  },
  {
   "cell_type": "markdown",
   "metadata": {},
   "source": [
    "## Execute Move arm demo"
   ]
  },
  {
   "cell_type": "markdown",
   "metadata": {},
   "source": [
    "We cn execute a series of movements using a python script, the **extact same one** that will be used in the real robot:"
   ]
  },
  {
   "cell_type": "markdown",
   "metadata": {},
   "source": [
    "<span style='background :orange' > First, STOP the previous moveit and manipulation launches </span>\n",
    "\n"
   ]
  },
  {
   "cell_type": "markdown",
   "metadata": {},
   "source": [
    "<table style=\"float:left;background: #407EAF\">\n",
    "<tr>\n",
    "<th>\n",
    "<p class=\"transparent\">Execute in WebShell #2</p>\n",
    "</th>\n",
    "</tr>\n",
    "</table>"
   ]
  },
  {
   "cell_type": "raw",
   "metadata": {},
   "source": [
    "roslaunch openmanipulator_morpheus_chair_tutorials demo_movement.launch"
   ]
  },
  {
   "cell_type": "markdown",
   "metadata": {},
   "source": [
    "You should see the robot simulation perform a series of movements like these:"
   ]
  },
  {
   "cell_type": "markdown",
   "metadata": {},
   "source": [
    "<img src=\"images/realrobotlab_notebooks/robotarm/roboarm_v3_move.gif\"/>"
   ]
  },
  {
   "cell_type": "markdown",
   "metadata": {},
   "source": [
    "## Open and close the Gripper"
   ]
  },
  {
   "cell_type": "markdown",
   "metadata": {},
   "source": [
    "We can open and close the gripper using a simple topic publisher:"
   ]
  },
  {
   "cell_type": "markdown",
   "metadata": {},
   "source": [
    "<table style=\"float:left;background: #407EAF\">\n",
    "<tr>\n",
    "<th>\n",
    "<p class=\"transparent\">Execute in WebShell #2</p>\n",
    "</th>\n",
    "</tr>\n",
    "</table>"
   ]
  },
  {
   "cell_type": "raw",
   "metadata": {},
   "source": [
    "# Close gripper\n",
    "rostopic pub /safe/gripper_command std_msgs/String \"data: 'grip_on'\"\n",
    "# Open gripper\n",
    "rostopic pub /safe/gripper_command std_msgs/String \"data: 'grip_off'\"\n",
    "# Neutral gripper\n",
    "rostopic pub /safe/gripper_command std_msgs/String \"data: 'neutral'\""
   ]
  },
  {
   "cell_type": "markdown",
   "metadata": {},
   "source": [
    "<img src=\"images/realrobotlab_notebooks/robotarm/gripper_openclose.gif\"/>"
   ]
  },
  {
   "cell_type": "markdown",
   "metadata": {},
   "source": [
    "## Grasp Cube Demo"
   ]
  },
  {
   "cell_type": "markdown",
   "metadata": {},
   "source": [
    "Here you have a small launch that grasps the pink cube and leaves it elsewhere"
   ]
  },
  {
   "cell_type": "markdown",
   "metadata": {},
   "source": [
    "<table style=\"float:left;background: #407EAF\">\n",
    "<tr>\n",
    "<th>\n",
    "<p class=\"transparent\">Execute in WebShell #2</p>\n",
    "</th>\n",
    "</tr>\n",
    "</table>"
   ]
  },
  {
   "cell_type": "raw",
   "metadata": {},
   "source": [
    "roslaunch openmanipulator_morpheus_chair_tutorials grasp_openmanipulator.launch"
   ]
  },
  {
   "cell_type": "markdown",
   "metadata": {},
   "source": [
    "If you want to reset the pose of the cube, just elect **Reset World Poses** in the Gazebo Client and the cube will return to the original place:"
   ]
  },
  {
   "cell_type": "markdown",
   "metadata": {},
   "source": [
    "<img src=\"images/realrobotlab_notebooks/robotarm/grasp_demo.gif\"/>"
   ]
  },
  {
   "cell_type": "markdown",
   "metadata": {},
   "source": [
    "<img src=\"images/realrobotlab_notebooks/robotarm/reset_world.gif\"/>"
   ]
  },
  {
   "cell_type": "markdown",
   "metadata": {},
   "source": [
    "# SECTION II - Connect to the real robot in RoBoX"
   ]
  },
  {
   "cell_type": "markdown",
   "metadata": {},
   "source": [
    "Once you know the basics of the operation with a simulated version, it's time to use the real OpenManipulator Robot Arm.\n",
    "For that you have to follow these simple steps:"
   ]
  },
  {
   "cell_type": "markdown",
   "metadata": {},
   "source": [
    "### STEP1: Book a session"
   ]
  },
  {
   "cell_type": "markdown",
   "metadata": {},
   "source": [
    "In the main dashboard, you can book a session clicking in this icon:"
   ]
  },
  {
   "cell_type": "markdown",
   "metadata": {},
   "source": [
    "<img src=\"images/realrobotlab_notebooks/robotarm/main_dasboard.png\"/>"
   ]
  },
  {
   "cell_type": "markdown",
   "metadata": {},
   "source": [
    "<img src=\"images/realrobotlab_notebooks/robotarm/bookrobot_ico.png\"/>"
   ]
  },
  {
   "cell_type": "markdown",
   "metadata": {},
   "source": [
    "Here a booking page will appear where you can do two things:\n",
    "\n",
    "* Check your already done bookings\n",
    "* Make a new booking"
   ]
  },
  {
   "cell_type": "markdown",
   "metadata": {},
   "source": [
    "<img src=\"images/realrobotlab_notebooks/robotarm/book0.png\"/>"
   ]
  },
  {
   "cell_type": "markdown",
   "metadata": {},
   "source": [
    "In the **My RoBox's Time** tab you can manage all the bookings you have."
   ]
  },
  {
   "cell_type": "markdown",
   "metadata": {},
   "source": [
    "<img src=\"images/realrobotlab_notebooks/robotarm/book6.png\"/>"
   ]
  },
  {
   "cell_type": "markdown",
   "metadata": {},
   "source": [
    "These are the steps for the reservationof a RobotARM"
   ]
  },
  {
   "cell_type": "markdown",
   "metadata": {},
   "source": [
    "Select the Robot to make the reservation of:"
   ]
  },
  {
   "cell_type": "markdown",
   "metadata": {},
   "source": [
    "<img src=\"images/realrobotlab_notebooks/robotarm/book1.png\"/>"
   ]
  },
  {
   "cell_type": "markdown",
   "metadata": {},
   "source": [
    "Select the ROS version"
   ]
  },
  {
   "cell_type": "markdown",
   "metadata": {},
   "source": [
    "<img src=\"images/realrobotlab_notebooks/robotarm/book2.png\"/>"
   ]
  },
  {
   "cell_type": "markdown",
   "metadata": {},
   "source": [
    "Select the Time and date:"
   ]
  },
  {
   "cell_type": "markdown",
   "metadata": {},
   "source": [
    "<img src=\"images/realrobotlab_notebooks/robotarm/book3.png\"/>"
   ]
  },
  {
   "cell_type": "markdown",
   "metadata": {},
   "source": [
    "Confirm to make the booking:"
   ]
  },
  {
   "cell_type": "markdown",
   "metadata": {},
   "source": [
    "<img src=\"images/realrobotlab_notebooks/robotarm/book4.png\"/>"
   ]
  },
  {
   "cell_type": "markdown",
   "metadata": {},
   "source": [
    "<img src=\"images/realrobotlab_notebooks/robotarm/book5.png\"/>"
   ]
  },
  {
   "cell_type": "markdown",
   "metadata": {},
   "source": [
    "### STEP 2: Launch the RoBoX OpenManipulator rosject "
   ]
  },
  {
   "cell_type": "markdown",
   "metadata": {},
   "source": [
    "Once you have the reservation, you will be prompted with this panel that allows you to get a copy of the Template rosject for that robot. In these templates, you will find the simulation of that robot and some tutorial like the one you are reading right now."
   ]
  },
  {
   "cell_type": "markdown",
   "metadata": {},
   "source": [
    "<img src=\"images/realrobotlab_notebooks/robotarm/book0.png\"/>"
   ]
  },
  {
   "cell_type": "markdown",
   "metadata": {},
   "source": [
    "**NOTE**: In the **My RoBox Tab** you can click on **Get Rosject** to hve that template."
   ]
  },
  {
   "cell_type": "markdown",
   "metadata": {},
   "source": [
    "### STEP3: Turn ON the RoBoX connection to the robot you booked"
   ]
  },
  {
   "cell_type": "markdown",
   "metadata": {},
   "source": [
    "Once you are inside the rosject and in your **BOOKED TIME**, a toggle for **tunring on the connection** will appear.\n",
    "\n",
    "**WARNING: Nothing will appear unless you have a booking. So if you didnt make a booking in the dashboard, feel free to do so.**\n",
    "\n",
    "You now just have to click and it will start the **turning on process**. The terminals will be restarted and when the system is ready, you will be able to open them again."
   ]
  },
  {
   "cell_type": "markdown",
   "metadata": {},
   "source": [
    "<img src=\"images/realrobotlab_notebooks/connect_robox.gif\" width=600/>"
   ]
  },
  {
   "cell_type": "markdown",
   "metadata": {},
   "source": [
    "<img src=\"images/realrobotlab_notebooks/disconnect_robox.gif\" width=600/>"
   ]
  },
  {
   "cell_type": "markdown",
   "metadata": {},
   "source": [
    "Now you should be able to do the folowing comand getting a list of topics similar to this. It could take some extra 30 seconds to appear:\n",
    "\n",
    "<img src=\"images/realrobotlab_notebooks/robotarm/robox_arm_topics.png\"/>"
   ]
  },
  {
   "cell_type": "markdown",
   "metadata": {},
   "source": [
    "# SECTION III - Execute Move arm demo in Real Robot"
   ]
  },
  {
   "cell_type": "markdown",
   "metadata": {},
   "source": [
    "<span style='background :orange' > READ FIRST SECURITY </span>\n",
    "\n"
   ]
  },
  {
   "cell_type": "markdown",
   "metadata": {},
   "source": [
    "Be carefull when using the robot arm!\n",
    "\n",
    "Follow these reccomendations and you shouldn't have any issues:\n",
    "\n",
    "* **When possible, test your movements before in the simulator.**\n",
    "* **Use the given openmanipulator_safe_moveit_v2 config package, which is tested to be safe for the robot environment.**\n"
   ]
  },
  {
   "cell_type": "markdown",
   "metadata": {},
   "source": [
    "<img src=\"images/realrobotlab_notebooks/robotarm/sad_arm.png\" width=400/>"
   ]
  },
  {
   "cell_type": "markdown",
   "metadata": {},
   "source": [
    "* When using Moveit, you know that its a dangerous position because the colliding elemens turn red, and you won't be able to execute that movement.\n",
    "* If a dangerous movement is sent, the robot simply won't move."
   ]
  },
  {
   "cell_type": "markdown",
   "metadata": {},
   "source": [
    "<img src=\"images/realrobotlab_notebooks/robotarm/moveit_unsafemovements.gif\"/>"
   ]
  },
  {
   "cell_type": "markdown",
   "metadata": {},
   "source": [
    "<span style='background :green' > IMPORTANT INFO </span>\n",
    "\n"
   ]
  },
  {
   "cell_type": "markdown",
   "metadata": {},
   "source": [
    "Because we are validating all the joints sent before moving the robot, the robot can take **form 1 second to 30 seconds** to execute movements. So **DONT BE IMPATIENT** if it doesnt move immediatelly after sending a command. Take into accound that we have to be sure that the robot stays in one piece for the nextuser to find it in the same good state you did. This time delay is **really big in moveit**. This is becuase moveit send a huge volume of jointr trajectories that have to be validated. "
   ]
  },
  {
   "cell_type": "markdown",
   "metadata": {},
   "source": [
    "<span style='background :orange' > READ FIRST SECURITY </span>\n",
    "\n"
   ]
  },
  {
   "cell_type": "markdown",
   "metadata": {},
   "source": [
    "We can execute a series of movements using a python script, the **extact same one** that will be used in the simulated robot:"
   ]
  },
  {
   "cell_type": "markdown",
   "metadata": {},
   "source": [
    "<span style='background :orange' > First, STOP the simulation launch if its still running </span>\n",
    "\n"
   ]
  },
  {
   "cell_type": "markdown",
   "metadata": {},
   "source": [
    "<table style=\"float:left;background: #407EAF\">\n",
    "<tr>\n",
    "<th>\n",
    "<p class=\"transparent\">Execute in WebShell #1</p>\n",
    "</th>\n",
    "</tr>\n",
    "</table>"
   ]
  },
  {
   "cell_type": "raw",
   "metadata": {},
   "source": [
    "roslaunch openmanipulator_morpheus_chair_tutorials demo_movement.launch"
   ]
  },
  {
   "cell_type": "markdown",
   "metadata": {},
   "source": [
    "You should see the robot simulation perform a series of movements like these:"
   ]
  },
  {
   "cell_type": "markdown",
   "metadata": {},
   "source": [
    "<img src=\"images/realrobotlab_notebooks/robotarm/move_real.gif\" height=\"400\"/>"
   ]
  },
  {
   "cell_type": "markdown",
   "metadata": {},
   "source": [
    "**Note**: Take into account that you **will not be able to push git changes when turned on, because there is no interenet connection**.\n",
    "\n",
    "So to push any changes in your remote gits in the ROsject, you will have to turn off the connection."
   ]
  },
  {
   "cell_type": "markdown",
   "metadata": {},
   "source": [
    "You are now connected to the robot! So lets try moving the robot around and seeing in rviz the lasers and the camera."
   ]
  },
  {
   "cell_type": "markdown",
   "metadata": {},
   "source": [
    "## Move Using Moveit GUI in Real Robot\n",
    "\n",
    "For more complex movements and specially for grasping, moveit is vital in robot arms. Therefore you can launch Moveit lke this:"
   ]
  },
  {
   "cell_type": "markdown",
   "metadata": {},
   "source": [
    "<span style='background :orange' > First, previous launches. </span>\n",
    "\n"
   ]
  },
  {
   "cell_type": "markdown",
   "metadata": {},
   "source": [
    "<table style=\"float:left;background: #407EAF\">\n",
    "<tr>\n",
    "<th>\n",
    "<p class=\"transparent\">Execute in WebShell #2</p>\n",
    "</th>\n",
    "</tr>\n",
    "</table>"
   ]
  },
  {
   "cell_type": "raw",
   "metadata": {},
   "source": [
    "roslaunch openmanipulator_safe_moveit_v2 open_manipulator_planning_execution_safe_users.launch"
   ]
  },
  {
   "cell_type": "markdown",
   "metadata": {},
   "source": [
    "This launch starts the Moveit system that uses RVIZ adapted for Moveit systems.\n",
    "To see this, click on the 'Graphical Tools' button on the bottom left side of your screen:\n",
    "<img src=\"images/realrobotlab_notebooks/robotarm/grphical_tools_ico.png\"/>"
   ]
  },
  {
   "cell_type": "markdown",
   "metadata": {},
   "source": [
    "You can now use the planning system to select a presaved pose, set one yourself or even generate random valid joint configuration:\n",
    "\n",
    "<img src=\"images/realrobotlab_notebooks/robotarm/moveit_realrobot.gif\"/>"
   ]
  },
  {
   "cell_type": "markdown",
   "metadata": {},
   "source": [
    "## Grasp Cube Demo"
   ]
  },
  {
   "cell_type": "markdown",
   "metadata": {},
   "source": [
    "Here you have a small launch that grasps the pink cube and leaves it elsewhere"
   ]
  },
  {
   "cell_type": "markdown",
   "metadata": {},
   "source": [
    "<table style=\"float:left;background: #407EAF\">\n",
    "<tr>\n",
    "<th>\n",
    "<p class=\"transparent\">Execute in WebShell #2</p>\n",
    "</th>\n",
    "</tr>\n",
    "</table>"
   ]
  },
  {
   "cell_type": "raw",
   "metadata": {},
   "source": [
    "roslaunch openmanipulator_morpheus_chair_tutorials grasp_openmanipulator.launch"
   ]
  },
  {
   "cell_type": "markdown",
   "metadata": {},
   "source": [
    "# CONGRATULATIONS: You have taken your first steps in RoBoX, the next steps are up to you!"
   ]
  }
 ],
 "metadata": {
  "kernelspec": {
   "display_name": "Python 2",
   "language": "python",
   "name": "python2"
  },
  "language_info": {
   "codemirror_mode": {
    "name": "ipython",
    "version": 2
   },
   "file_extension": ".py",
   "mimetype": "text/x-python",
   "name": "python",
   "nbconvert_exporter": "python",
   "pygments_lexer": "ipython2",
   "version": "2.7.16"
  }
 },
 "nbformat": 4,
 "nbformat_minor": 1
}
