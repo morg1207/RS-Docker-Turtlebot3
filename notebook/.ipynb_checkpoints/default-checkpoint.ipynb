{
 "cells": [
  {
   "cell_type": "markdown",
   "metadata": {},
   "source": [
    "# ROS2 Basics in 5 Days"
   ]
  },
  {
   "cell_type": "markdown",
   "metadata": {},
   "source": [
    "## Course Project"
   ]
  },
  {
   "cell_type": "markdown",
   "metadata": {},
   "source": [
    "<img src=\"ros2_basics_details.png\" width=\"200\"/>"
   ]
  },
  {
   "cell_type": "markdown",
   "metadata": {},
   "source": [
    "### In this rosject, you will have to apply all that you have learned along the ROS2 Basics course to a real robot.\n",
    "\n",
    "You will practice with a simulation and real robot.\n",
    "\n",
    "The real robot is a Turtlebot3 that is running in Barcelona, Spain. You will connect remotely to it and practice on it."
   ]
  },
  {
   "cell_type": "markdown",
   "metadata": {},
   "source": [
    "# How to proceed"
   ]
  },
  {
   "cell_type": "markdown",
   "metadata": {},
   "source": [
    "This rosject is composed of three parts. You should do each part when the **ROS2 Basics in 5 Days** course indicates it. "
   ]
  },
  {
   "cell_type": "markdown",
   "metadata": {},
   "source": [
    "* **PART I**: practice for topic publishers and subscribers\n",
    "* **PART II**: practice for services\n",
    "* **PART III**: practice for actions"
   ]
  },
  {
   "cell_type": "markdown",
   "metadata": {},
   "source": [
    "Go to the part that the course indicated to you and try to finish it. But before doing that, **launch the simulation** of the project. You will use the simulation to practice with the simulated environment."
   ]
  },
  {
   "cell_type": "markdown",
   "metadata": {},
   "source": [
    "## Try in simulation first"
   ]
  },
  {
   "cell_type": "markdown",
   "metadata": {},
   "source": [
    "You should use the simulation to test your code while you are trying to get the exercises of this project done. \n",
    "\n",
    "<img src=\"new_sim.png\"/>"
   ]
  },
  {
   "cell_type": "markdown",
   "metadata": {},
   "source": [
    "To launch the simulation, do the following:\n",
    "\n",
    "1. Open a terminal by pressing on the *terminal icon* at the bottom left.\n",
    "\n",
    "<img src=\"open_terminal_superapp.png\"/>\n",
    "\n",
    "2. Type the following command that launches the simulation"
   ]
  },
  {
   "cell_type": "code",
   "execution_count": null,
   "metadata": {},
   "outputs": [],
   "source": [
    "source ~/simulation_ws/install/setup.bash\n",
    "ros2 launch turtlebot3_gazebo main_turtlebot3_lab.launch.xml"
   ]
  },
  {
   "cell_type": "markdown",
   "metadata": {},
   "source": [
    "To see the simulation, press the Gazebo button in the bottom left side of your screen, and select *Gazebo Window*\n",
    "<img src=\"gazebo_superapp.png\"/>\n",
    "\n",
    "**Wait about 30 seconds maximum** for the simulation to start and the simulation should appear on the Gazebo window."
   ]
  },
  {
   "cell_type": "markdown",
   "metadata": {},
   "source": [
    "# PART I: Topics"
   ]
  },
  {
   "cell_type": "markdown",
   "metadata": {},
   "source": [
    "In this part, you are going to practice how to use topics to control a robot. Your goal is to create a ROS program that makes the robot have a wall-following behavior."
   ]
  },
  {
   "cell_type": "markdown",
   "metadata": {},
   "source": [
    "### Wall-following behavior"
   ]
  },
  {
   "cell_type": "markdown",
   "metadata": {},
   "source": [
    "The wall-following behavior is a behavior that makes the robot follow the wall on its right-hand side. This means that the robot must be moving forward at 30cm (1 feet) of distance from the wall at all times, having the wall on its right-hand side."
   ]
  },
  {
   "cell_type": "markdown",
   "metadata": {},
   "source": [
    "To achieve this behavior in the robot, you need to do two things:\n",
    "\n",
    "#### Subscribe to the laser topic of the robot\n",
    "\n",
    "You need to subscribe to the laser topic and capture the rays. Select the ray of the right (the one that makes 90º to the right with the front of the robot) and use it to measure the robot's distance to the wall.\n",
    "\n",
    "* If the ray distance is **bigger than 0.3m**, you need to move the robot a little toward the wall, by adding some rotational speed to the robot\n",
    "* If the ray distance is **lower than 0.2m**, you need to move the robot away from the wall, by adding rotational speed in the opposite direction\n",
    "* If the ray distance is **between 0.2m and 0.3m**, just keep the robot moving forward\n",
    "\n",
    "**IMPORTANT**\n",
    "\n",
    "When the robot is moving along a wall, it can reach the next wall crossing its way. At that point in time, you should include a behavior that progressively transitions the robot from the current wall it's following to the next one.\n",
    "\n",
    "For that, we recommend that you to use the front laser ray. If the distance measured by that ray is shorter than 0.5m, then make the robot turn fast to the left (moving forward at the same time).\n",
    "\n",
    "The result of this behavior must be that the robot moves along the whole environment (see video below)."
   ]
  },
  {
   "cell_type": "markdown",
   "metadata": {},
   "source": [
    "### Test your wall-following program on the simulation"
   ]
  },
  {
   "cell_type": "markdown",
   "metadata": {},
   "source": [
    "Create the wall-following program and test it on the simulation. Until it works on the simulation, you cannot try it on the real robot. \n",
    "\n",
    "**If the program doesn't work on the simulation, it is 100% not going to work on the real one.**\n",
    "\n",
    "Real life robot development works this way. First, try it on the simulation. When it works there, then you try it on the real. Never the other way around."
   ]
  },
  {
   "cell_type": "markdown",
   "metadata": {},
   "source": [
    "<img src=\"wall_follow_long.gif\"/>"
   ]
  },
  {
   "cell_type": "markdown",
   "metadata": {},
   "source": [
    "To test in simulation:\n",
    "\n",
    "1. Make sure the simulation is launched as explained above\n",
    "2. On another terminal, launch the keyboard teleop with the following command:"
   ]
  },
  {
   "cell_type": "code",
   "execution_count": null,
   "metadata": {},
   "outputs": [],
   "source": [
    "source ros2_ws/install/setup.bash\n",
    "ros2 run teleop_twist_keyboard teleop_twist_keyboard"
   ]
  },
  {
   "cell_type": "markdown",
   "metadata": {},
   "source": [
    "3. Now use the keys to move the robot to a convenient position to test your ROS program. This means, close to a wall, looking along it. Remember that to be able to move the robot with the keys, **the terminal where you launched the teleop has to have the focus**.\n",
    "\n",
    "**IMPORTANT**: close this *teleop* program once you have the proper position. Otherwise, it will interfere with your program.\n",
    "\n",
    "4. Now launch your ROS program and see the results. If the robot doesn't behave correctly, debug your program and try to figure out the reason."
   ]
  },
  {
   "cell_type": "markdown",
   "metadata": {},
   "source": [
    "## If working in simulation, go to the real robot"
   ]
  },
  {
   "cell_type": "markdown",
   "metadata": {},
   "source": [
    "Once the robot is moving along the walls of the simulated environment, it is time for you to test it on the real robot.\n",
    "\n",
    "The steps are:\n",
    "1. Book a date and time in the *Real Robot Lab* to test you program (see Appendix below that teaches how to do that).\n",
    "2. On the day and time selected, open this rosject.\n",
    "3. Connect to the real robot lab from within this rosject (see Appendix below).\n",
    "4. Launch the keyboard program and move the real robot to the proper position to start when you launch your program.\n",
    "5. Launch your program and see if it works properly. Chances are it will not because simulation is not an exact copy of the real environment. Now is your time to debug. \n",
    "6. Test on the real robot and debug your errors until you have it working properly."
   ]
  },
  {
   "cell_type": "markdown",
   "metadata": {},
   "source": [
    "<img src=\"realrobotlab_notebooks/realrobot_follow_wall.gif\"/>"
   ]
  },
  {
   "cell_type": "markdown",
   "metadata": {},
   "source": [
    "# PART II: Services"
   ]
  },
  {
   "cell_type": "markdown",
   "metadata": {},
   "source": [
    "### Create a ROS service that looks for the wall"
   ]
  },
  {
   "cell_type": "markdown",
   "metadata": {},
   "source": [
    "In this part, you will have to do three things:\n",
    "1. Create a ROS service server that when called, will make the robot go to the nearest wall\n",
    "2. Modify the PART I program so that it calls the ROS service server before starting to follow the wall\n",
    "3. Create a new launch file to launch both nodes"
   ]
  },
  {
   "cell_type": "markdown",
   "metadata": {},
   "source": [
    "#### Step 1: Create the ROS service server"
   ]
  },
  {
   "cell_type": "markdown",
   "metadata": {},
   "source": [
    "* Create a new ROS node that contains a service server named *find_wall*. The server uses a *FindWall* message, which you must create."
   ]
  },
  {
   "cell_type": "code",
   "execution_count": null,
   "metadata": {},
   "outputs": [],
   "source": [
    "FindWall.srv\n",
    "\n",
    "---\n",
    "bool wallfound"
   ]
  },
  {
   "cell_type": "markdown",
   "metadata": {},
   "source": [
    "When the service is called, the robot must do the following behavior:\n",
    "\n",
    "1. Identify which of the laser rays is the shortest one. We assume that that is the one that is pointing to a wall.\n",
    "2. Rotate the robot until the front of the robot is facing the wall. This can be done by rotating the robot until the ray 0 is the smaller one.\n",
    "3. Move the robot forward until the ray 0 is shorter than 0.3m.\n",
    "4. Now rotate the robot again until ray number 270 of the laser range is pointing to the wall.\n",
    "5. At this point we consider that the robot is situated to start moving along the wall\n",
    "6. Return the service message with a *True*."
   ]
  },
  {
   "cell_type": "markdown",
   "metadata": {},
   "source": [
    "**How to test the service**\n",
    "\n",
    "* Launch the service server node\n",
    "* Use the terminal to test the service with a service call command"
   ]
  },
  {
   "cell_type": "code",
   "execution_count": null,
   "metadata": {},
   "outputs": [],
   "source": [
    "ros2 service call find_wall"
   ]
  },
  {
   "cell_type": "markdown",
   "metadata": {},
   "source": [
    "This should start the robot movement looking for the wall."
   ]
  },
  {
   "cell_type": "markdown",
   "metadata": {},
   "source": [
    "#### Step 2: Modify the PART I program"
   ]
  },
  {
   "cell_type": "markdown",
   "metadata": {},
   "source": [
    "* Add a service client to the node of the part I.\n",
    "* Call the service before the control loop of that node, so the robot gets prepared autonomously before starting to follow the wall"
   ]
  },
  {
   "cell_type": "markdown",
   "metadata": {},
   "source": [
    "**How to test it**"
   ]
  },
  {
   "cell_type": "markdown",
   "metadata": {},
   "source": [
    "* Launch the service server node\n",
    "* Launch the wall following node. \n",
    "\n",
    "This should start the robot movement (first the robot looks for the wall, then starts to follow the wall)."
   ]
  },
  {
   "cell_type": "markdown",
   "metadata": {},
   "source": [
    "#### Step 3: Create a new launch file"
   ]
  },
  {
   "cell_type": "markdown",
   "metadata": {},
   "source": [
    "* Create a new launch file named *main.launch* that launches both nodes: first the service server node and then the wall-following node."
   ]
  },
  {
   "cell_type": "markdown",
   "metadata": {},
   "source": [
    "This should start the robot movement (first the robot looks for the wall, then starts to follow the wall)."
   ]
  },
  {
   "cell_type": "markdown",
   "metadata": {},
   "source": [
    "**IMPORTANT**: test everything on the simulation. When you have it working on the simulation, book a date in the *Real Robot Lab* and make it also work there."
   ]
  },
  {
   "cell_type": "markdown",
   "metadata": {},
   "source": [
    "# PART III: Actions"
   ]
  },
  {
   "cell_type": "markdown",
   "metadata": {},
   "source": [
    "### Create an action server that records odometry"
   ]
  },
  {
   "cell_type": "markdown",
   "metadata": {},
   "source": [
    "In this part, you will have to do:\n",
    "\n",
    "1. Create an action server that when called, starts recording odometry\n",
    "2. Add a call to the action server from the wall-follower node\n",
    "3. Include the launch of the action server in the *main.launch*"
   ]
  },
  {
   "cell_type": "markdown",
   "metadata": {},
   "source": [
    "#### Step 1: Create the action server"
   ]
  },
  {
   "cell_type": "markdown",
   "metadata": {},
   "source": [
    "* Create a new ROS node that contains an action server named *record_odom*. The server uses a *OdomRecord.action* message, which you must create."
   ]
  },
  {
   "cell_type": "code",
   "execution_count": null,
   "metadata": {},
   "outputs": [],
   "source": [
    "OdomRecord.action\n",
    "\n",
    "---\n",
    "geometry_msgs/msg/Point32[] list_of_odoms\n",
    "---\n",
    "float32 current_total"
   ]
  },
  {
   "cell_type": "markdown",
   "metadata": {},
   "source": [
    "* The server must start recording the (x,y,theta) odometry of the robot as a Point32, one measure every second. \n",
    "* As feedback, the action server must provide the total amount of meters that the robot has moved so far\n",
    "* When the robot has done a complete lap, it has to finish and return the list of odometries recorded"
   ]
  },
  {
   "cell_type": "markdown",
   "metadata": {},
   "source": [
    "**How to test the server**\n",
    "\n",
    "* Launch the action server node\n",
    "* Use the terminal to launch the *axclient* and test the action server "
   ]
  },
  {
   "cell_type": "markdown",
   "metadata": {},
   "source": [
    "#### Step 2: Modify the PART I program"
   ]
  },
  {
   "cell_type": "markdown",
   "metadata": {},
   "source": [
    "* Add an action service client to the node of part I.\n",
    "* Call the action server before the control loop of that node, so the robot starts recording odometry before starting to follow the wall"
   ]
  },
  {
   "cell_type": "markdown",
   "metadata": {},
   "source": [
    "**How to test it**"
   ]
  },
  {
   "cell_type": "markdown",
   "metadata": {},
   "source": [
    "* Launch the action server node.\n",
    "* Launch the *main.launch*. \n",
    "\n",
    "This should start the robot movement and start recording.\n",
    "\n",
    "* Check the feedback topic of the action server to see how it is going."
   ]
  },
  {
   "cell_type": "markdown",
   "metadata": {},
   "source": [
    "#### Step 3: Create a new launch file"
   ]
  },
  {
   "cell_type": "markdown",
   "metadata": {},
   "source": [
    "* Add to *main.launch* the launch of the action server node."
   ]
  },
  {
   "cell_type": "markdown",
   "metadata": {},
   "source": [
    "This should start the robot movement and odometry recording."
   ]
  },
  {
   "cell_type": "markdown",
   "metadata": {},
   "source": [
    "**IMPORTANT**: test everything on the simulation. When you have it working on the simulation, book a date in the *Real Robot Lab* and make it also work there."
   ]
  },
  {
   "cell_type": "markdown",
   "metadata": {},
   "source": [
    "# PART IV: Book a date to present your project on Youtube (optional)"
   ]
  },
  {
   "cell_type": "markdown",
   "metadata": {},
   "source": [
    "An important part of your learning is to teach to others what you have learned.\n",
    "\n",
    "In order to get the most out of your learning, you should deliver a live presentation of your project. \n",
    "\n",
    "If you want to take this brave step, contact us at info@theconstructsim.com requesting a presentation and we will agree on the day and time.\n",
    "\n",
    "**You will have to**:\n",
    "1. Prepare your presentation. You will have to explain your project in 20 minutes, how you solved it, and how it works.\n",
    "2. On the day agreed, you will need to have a camera and mic ready.\n",
    "3. We will contact you on the day and prepare the whole broadcast. We will handle everything, you only need to be ready to present.\n",
    "\n",
    "\n",
    "The event will be broadcast on Youtube so anybody around the world can attend and watch your presentation."
   ]
  },
  {
   "cell_type": "markdown",
   "metadata": {},
   "source": [
    "# PART V: Share your project on your LinkedIn or social networks"
   ]
  },
  {
   "cell_type": "markdown",
   "metadata": {},
   "source": [
    "The rosject that you created with this project is a demonstration of your value as a ROS Developer.\n",
    "\n",
    "You can share your rosject on any website to show the ROS projects you have worked on. This can help future employers hire you."
   ]
  },
  {
   "cell_type": "markdown",
   "metadata": {},
   "source": [
    "In order to share your rosject:\n",
    "* go to your list of rosjects\n",
    "* click on the *Share* button of your rosject to get the share link.\n",
    "\n",
    "<img src=\"ros2_basics_share_rosject.png\" width=\"400\"/>\n",
    "\n",
    "* then you can publish the link anywhere\n",
    "\n",
    "<img src=\"sharelink.png\" width=\"400\"/>"
   ]
  },
  {
   "cell_type": "markdown",
   "metadata": {},
   "source": [
    "## APPENDIX: How to connect to the real robot in RoBoX"
   ]
  },
  {
   "cell_type": "markdown",
   "metadata": {},
   "source": [
    "Once you know the basics of the operation with a simulated version, it's time to use the real Turtlebot3 robot.\n",
    "\n",
    "For that, you have to follow these simple steps:"
   ]
  },
  {
   "cell_type": "markdown",
   "metadata": {},
   "source": [
    "### STEP1: Book a session"
   ]
  },
  {
   "cell_type": "markdown",
   "metadata": {},
   "source": [
    "In the main dashboard, you can book a session by clicking on this icon:"
   ]
  },
  {
   "cell_type": "markdown",
   "metadata": {},
   "source": [
    "<img src=\"reallab.png\"/>"
   ]
  },
  {
   "cell_type": "markdown",
   "metadata": {},
   "source": [
    "Here a booking page will appear where you can do two things:\n",
    "\n",
    "* Check your previously-made bookings\n",
    "\n",
    "<img src=\"bookassession.png\"/>\n",
    "\n",
    "* Make a new booking\n",
    "\n",
    "<img src=\"bookings.png\"/>"
   ]
  },
  {
   "cell_type": "markdown",
   "metadata": {},
   "source": [
    "You can also click on the **BOOK A SESSION** button to make a new one, which will take you to this menu, where you will select:\n",
    "\n",
    "* The **Type of Robot** you want to book. For the moment, only Turtlebot3 is available.\n",
    "* The Date and Time of your reservation. "
   ]
  },
  {
   "cell_type": "markdown",
   "metadata": {},
   "source": [
    "<img src=\"realrobotlab_notebooks/make_reservation_2.png\"/>"
   ]
  },
  {
   "cell_type": "markdown",
   "metadata": {},
   "source": [
    "The **date and times shown are the ones available**. They come in **periods of 25 minutes**.\n",
    "\n",
    "There is also a limitation on the number of bookings per week a user can make. \n",
    "\n",
    "This depends on your particular license and subscription."
   ]
  },
  {
   "cell_type": "markdown",
   "metadata": {},
   "source": [
    "<img src=\"realrobotlab_notebooks/make_reservation_3.png\"/>"
   ]
  },
  {
   "cell_type": "markdown",
   "metadata": {},
   "source": [
    "<img src=\"realrobotlab_notebooks/make_reservation_4.png\"/>"
   ]
  },
  {
   "cell_type": "markdown",
   "metadata": {},
   "source": [
    "### STEP 2: Launch the RoBoX-Turtlebot3 ROSJect "
   ]
  },
  {
   "cell_type": "markdown",
   "metadata": {},
   "source": [
    "To have the best experience, you need to launch the rosject with the simulation of Turtlebot3. Chances are that if you are reading this, you have already launched it."
   ]
  },
  {
   "cell_type": "markdown",
   "metadata": {},
   "source": [
    "When **one hour or less** is remaining until your booking session, a warning will be shown both in **the Dashboard** and inside the rosject **desktop**. This will be indicated with an **orange dot** on the **RoBox** icon."
   ]
  },
  {
   "cell_type": "markdown",
   "metadata": {},
   "source": [
    "<img src=\"realrobotlab_notebooks/booking_warnings1.png\"/>"
   ]
  },
  {
   "cell_type": "markdown",
   "metadata": {},
   "source": [
    "<img src=\"realrobotlab_notebooks/warning_4.png\"/>"
   ]
  },
  {
   "cell_type": "markdown",
   "metadata": {},
   "source": [
    "It will then turn into a **red dot** when your booking session has started."
   ]
  },
  {
   "cell_type": "markdown",
   "metadata": {},
   "source": [
    "<img src=\"realrobotlab_notebooks/warning_2.png\"/>"
   ]
  },
  {
   "cell_type": "markdown",
   "metadata": {},
   "source": [
    "<img src=\"realrobotlab_notebooks/warning_5.png\"/>"
   ]
  },
  {
   "cell_type": "markdown",
   "metadata": {},
   "source": [
    "**Note**: Also, when you are inside your booking, the icon for the streaming window will appear in the desktop inside the rosject."
   ]
  },
  {
   "cell_type": "markdown",
   "metadata": {},
   "source": [
    "<img src=\"realrobotlab_notebooks/stream_icon.png\"/>"
   ]
  },
  {
   "cell_type": "markdown",
   "metadata": {},
   "source": [
    "<img src=\"realrobotlab_notebooks/stream_image.png\"/>"
   ]
  },
  {
   "cell_type": "markdown",
   "metadata": {},
   "source": [
    "### STEP3: Turn ON the RoBoX connection to the robot you booked"
   ]
  },
  {
   "cell_type": "markdown",
   "metadata": {},
   "source": [
    "Once you are inside the rosject and in your **BOOKED TIME**, a toggle for **turning on the connection** will appear.\n",
    "\n",
    "**WARNING: Nothing will appear unless you have a booking. So if you didn't make a booking in the dashboard, feel free to do so.**\n",
    "\n",
    "You now just have to click and it will start the **turning-on process**. The terminals will be restarted, and when the system is ready, you will be able to open them again."
   ]
  },
  {
   "cell_type": "markdown",
   "metadata": {},
   "source": [
    "<img src=\"realrobotlab_notebooks/connect_robox.gif\" width=600/>"
   ]
  },
  {
   "cell_type": "markdown",
   "metadata": {},
   "source": [
    "<img src=\"realrobotlab_notebooks/disconnect_robox.gif\" width=600/>"
   ]
  },
  {
   "cell_type": "markdown",
   "metadata": {},
   "source": [
    "Now you should be able to do the folowing command, getting a list of topics similar to this. It could take an extra 30 seconds to appear:"
   ]
  },
  {
   "cell_type": "markdown",
   "metadata": {},
   "source": [
    "<table style=\"float:left;background: #407EAF\">\n",
    "<tr>\n",
    "<th>\n",
    "<p class=\"transparent\">Execute in WebShell #1</p>\n",
    "</th>\n",
    "</tr>\n",
    "</table>"
   ]
  },
  {
   "cell_type": "code",
   "execution_count": null,
   "metadata": {},
   "outputs": [],
   "source": [
    "ros2 topic list"
   ]
  },
  {
   "cell_type": "markdown",
   "metadata": {},
   "source": [
    "**Note**: Take into account that you **will not be able to push git changes when turned on, because there is no interenet connection**.\n",
    "\n",
    "So to push any changes in your remote gits in the rosject, you will have to turn off the connection."
   ]
  },
  {
   "cell_type": "markdown",
   "metadata": {},
   "source": [
    "You are now connected to the robot! So let's try moving the robot around and seeing the lasers and the camera in rviz."
   ]
  },
  {
   "cell_type": "markdown",
   "metadata": {},
   "source": [
    "<table style=\"float:left;background: #407EAF\">\n",
    "<tr>\n",
    "<th>\n",
    "<p class=\"transparent\">Execute in WebShell #1</p>\n",
    "</th>\n",
    "</tr>\n",
    "</table>"
   ]
  },
  {
   "cell_type": "code",
   "execution_count": null,
   "metadata": {},
   "outputs": [],
   "source": [
    "ros2 run teleop_twist_keyboard teleop_twist_keyboard"
   ]
  },
  {
   "cell_type": "markdown",
   "metadata": {},
   "source": [
    "<table style=\"float:left;background: #407EAF\">\n",
    "<tr>\n",
    "<th>\n",
    "<p class=\"transparent\">Execute in WebShell #2</p>\n",
    "</th>\n",
    "</tr>\n",
    "</table>"
   ]
  },
  {
   "cell_type": "code",
   "execution_count": null,
   "metadata": {},
   "outputs": [],
   "source": [
    "rviz2"
   ]
  },
  {
   "cell_type": "markdown",
   "metadata": {},
   "source": [
    "You can then add an image and scan elements in the **base_link** frame, getting something like this:"
   ]
  },
  {
   "cell_type": "markdown",
   "metadata": {},
   "source": [
    "<img src=\"realrobotlab_notebooks/robox_demo_t3.gif\" width=1200/>"
   ]
  }
 ],
 "metadata": {
  "kernelspec": {
   "display_name": "Python 2",
   "language": "python",
   "name": "python2"
  },
  "language_info": {
   "codemirror_mode": {
    "name": "ipython",
    "version": 2
   },
   "file_extension": ".py",
   "mimetype": "text/x-python",
   "name": "python",
   "nbconvert_exporter": "python",
   "pygments_lexer": "ipython2",
   "version": "2.7.16"
  }
 },
 "nbformat": 4,
 "nbformat_minor": 1
}
