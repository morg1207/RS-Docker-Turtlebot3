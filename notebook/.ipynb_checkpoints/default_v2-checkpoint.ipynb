{
 "cells": [
  {
   "cell_type": "markdown",
   "metadata": {},
   "source": [
    "<div class=\"jumbotron m-0\">\n",
    "    <hr />\n",
    "    <h1 class=\"text-center\">\n",
    "        <span class=\"text-primary\">ROS Basics in 5 Days: Course Project</span>\n",
    "    </h1>\n",
    "    <hr />\n",
    "</div>"
   ]
  },
  {
   "cell_type": "markdown",
   "metadata": {},
   "source": [
    "<div class=\"bg-primary text-center\">\n",
    "    - Summary -\n",
    "</div>"
   ]
  },
  {
   "cell_type": "markdown",
   "metadata": {},
   "source": [
    "**In this rosject, you will have to apply all that you have learned throughout the ROS Basics course to a real robot.**\n",
    "\n",
    "- You will practice with a simulation and a real robot.\n",
    "- The real robot is a TurtleBot3, which is running in Barcelona, Spain. You will connect remotely to it and practice on it."
   ]
  },
  {
   "cell_type": "markdown",
   "metadata": {},
   "source": [
    "<div class=\"bg-primary text-center\">\n",
    "    - End of Summary -\n",
    "</div>"
   ]
  },
  {
   "cell_type": "markdown",
   "metadata": {},
   "source": [
    "<p style=\"color:red;\">**REMEMBER: You will be working with the ros1_bridge in the project (since the simulation and real robot run on ROS1), so every time you want to test a program in ROS2, run the parameter bridge. This is explained in the main notebook**</p>"
   ]
  },
  {
   "cell_type": "markdown",
   "metadata": {},
   "source": [
    "<div>\n",
    "    <h1 class=\"text-center\">\n",
    "        <span class=\"text-primary\">Part 0</span>\n",
    "        &nbsp;\n",
    "        <span class=\"\">Attach shelf to RB1</span>\n",
    "    </h1>\n",
    "</div>"
   ]
  },
  {
   "cell_type": "markdown",
   "metadata": {},
   "source": [
    "To attach the shelf to the RB1, you need to publish to the topics `/elevator_up` and `/elevator_down`, the same as you would in the real robot. This is a \"hack\" we've developed in order to be able to publish to these topics from ROS2 and be able to connect to the ROS1 action server responsible of moving the robot's elevator platform (and the analogous server that attaches the shelf to the robot in the gazebo simulation, also in ROS1).\n",
    "\n",
    "\n",
    "**The robot must be underneath the shelf.** To do this, enter the following command in a new terminal:"
   ]
  },
  {
   "cell_type": "markdown",
   "metadata": {},
   "source": [
    "<span class=\"badge badge-pill badge-primary\">\n",
    "    <i class=\"fa fa-play\"></i>\n",
    "    &nbsp;\n",
    "    Execute in Terminal #1\n",
    "</span>"
   ]
  },
  {
   "cell_type": "code",
   "execution_count": null,
   "metadata": {},
   "outputs": [],
   "source": [
    "ros2 topic pub /elevator_up std_msgs/msg/Empty -1"
   ]
  },
  {
   "cell_type": "markdown",
   "metadata": {},
   "source": [
    "Now, when you move the RB1, the cart should move with it.\n",
    "\n",
    "To drop it, just change the topic to `/elevator_down`:"
   ]
  },
  {
   "cell_type": "markdown",
   "metadata": {},
   "source": [
    "<span class=\"badge badge-pill badge-primary\">\n",
    "    <i class=\"fa fa-play\"></i>\n",
    "    &nbsp;\n",
    "    Execute in Terminal #1\n",
    "</span>"
   ]
  },
  {
   "cell_type": "code",
   "execution_count": null,
   "metadata": {},
   "outputs": [],
   "source": [
    "ros2 topic pub /elevator_down std_msgs/msg/Empty -1"
   ]
  },
  {
   "cell_type": "markdown",
   "metadata": {},
   "source": [
    "<img src=\"images/elevator_up_down.gif\"/>"
   ]
  },
  {
   "cell_type": "markdown",
   "metadata": {},
   "source": [
    "<div>\n",
    "    <h1 class=\"text-center\">\n",
    "        <span class=\"text-primary\">Part 1</span>\n",
    "        &nbsp;\n",
    "        <span class=\"\">Move RB1 to loading position</span>\n",
    "    </h1>\n",
    "</div>"
   ]
  },
  {
   "cell_type": "markdown",
   "metadata": {},
   "source": [
    "<h1 align=\"center\";> </h1>\n",
    "<div>\n",
    "    <h1 class=\"text-center\">\n",
    "        <span class=\"text-primary\">1.1</span>\n",
    "        &nbsp;\n",
    "        <span class=\"\">Create movement node</span>\n",
    "    </h1>\n",
    "</div>"
   ]
  },
  {
   "cell_type": "markdown",
   "metadata": {},
   "source": [
    "<p style=\"color:red;\">**Robot's velocity limit: 0.1 m/s**</p>"
   ]
  },
  {
   "cell_type": "markdown",
   "metadata": {},
   "source": [
    " This section's exercises will implement what you learned about topics, services and actions into the project. \n",
    " First, create a node that makes the mobile base go to the loading position and pick the shelf up:\n",
    "1. Create a package inside `ros2_ws`\n",
    "2. Write a node that subscribes to the `/scan` topic and that publishes on `/robot/cmd_vel`\n",
    "3. Start with publishing a linear velocity of 0.1 m/s to the `/cmd_vel`\n",
    "4. When the laser detects an obstacle 30 cm in front of the robot, stop it and turn 90 degrees\n",
    "5. Publish a linear velocity of 0.1 m/s until it arrives to the next obstacle (loading position), and then stop\n",
    "6. Publish to the `/elevator_up` topic to attach shelf/raise the elevator"
   ]
  },
  {
   "cell_type": "markdown",
   "metadata": {},
   "source": [
    "<img src=\"images/movement3.gif\"/>"
   ]
  },
  {
   "cell_type": "markdown",
   "metadata": {},
   "source": [
    "**TIP**: If you want to make the perfect 90 degree turn when the robot encounters the wall, and to keep track of where the robot is, you should subscribe to the `/odom` topic (you will need it for the service and action sections). That way you can look at the orientation of the robot and measure the correct angle.\n",
    "\n",
    "However, the orientation message (within the odometry pose) in `/odom` comes as a quaternion, so you'll probably want to convert it to a euler (roll, pitch, yaw) and use the yaw value to determine how much the robot has turned. Use the following function for this: "
   ]
  },
  {
   "cell_type": "code",
   "execution_count": null,
   "metadata": {},
   "outputs": [],
   "source": [
    "    def euler_from_quaternion(self, quaternion):\n",
    "        \"\"\"\n",
    "        Converts quaternion (w in last place) to euler roll, pitch, yaw\n",
    "        quaternion = [x, y, z, w]\n",
    "        Bellow should be replaced when porting for ROS 2 Python tf_conversions is done.\n",
    "        \"\"\"\n",
    "        x = quaternion[0]\n",
    "        y = quaternion[1]\n",
    "        z = quaternion[2]\n",
    "        w = quaternion[3]\n",
    "\n",
    "        sinr_cosp = 2 * (w * x + y * z)\n",
    "        cosr_cosp = 1 - 2 * (x * x + y * y)\n",
    "        roll = np.arctan2(sinr_cosp, cosr_cosp)\n",
    "\n",
    "        sinp = 2 * (w * y - z * x)\n",
    "        pitch = np.arcsin(sinp)\n",
    "\n",
    "        siny_cosp = 2 * (w * z + x * y)\n",
    "        cosy_cosp = 1 - 2 * (y * y + z * z)\n",
    "        yaw = np.arctan2(siny_cosp, cosy_cosp)\n",
    "\n",
    "        return roll, pitch, yaw"
   ]
  },
  {
   "cell_type": "markdown",
   "metadata": {},
   "source": [
    "You'll also need to install the following for this:"
   ]
  },
  {
   "cell_type": "code",
   "execution_count": null,
   "metadata": {},
   "outputs": [],
   "source": [
    "sudo pip3 install transforms3d"
   ]
  },
  {
   "cell_type": "markdown",
   "metadata": {},
   "source": [
    "<h1 align=\"center\";> </h1>\n",
    "<div>\n",
    "    <h1 class=\"text-center\">\n",
    "        <span class=\"text-primary\">1.2</span>\n",
    "        &nbsp;\n",
    "        <span class=\"\">Create service server </span>\n",
    "    </h1>\n",
    "</div>"
   ]
  },
  {
   "cell_type": "markdown",
   "metadata": {},
   "source": [
    "In this part, you have to **create a service that makes RB1 move to the loading position**\n",
    "\n",
    "1. Create a package dedicated to the service and action for today\n",
    "2. Create a service server node that, when called, will make the RB1 move to the loading position\n",
    "3. Write a Service class that initializes node and creates a service called `/moving` \n",
    "3. Include the velocity publisher, laser subscriber and a callback function that will perform the movement described above\n",
    "4. Launch the server from a launch file \n",
    "5. Replace the publishing/subscribing process in the node you created in Part 1.1 for a service call to the server you made\n",
    "6. Don't forget to keep the action call to pick up shelf at the end of the program"
   ]
  },
  {
   "cell_type": "markdown",
   "metadata": {},
   "source": [
    "You will have to create a custom message that the service will use:"
   ]
  },
  {
   "cell_type": "code",
   "execution_count": null,
   "metadata": {},
   "outputs": [],
   "source": [
    "GoToLoading.srv\n",
    "\n",
    "---\n",
    "bool complete"
   ]
  },
  {
   "cell_type": "markdown",
   "metadata": {},
   "source": [
    "You be able to call it from a terminal like so:"
   ]
  },
  {
   "cell_type": "code",
   "execution_count": null,
   "metadata": {},
   "outputs": [],
   "source": [
    "ros2 service call <service_name> <service_type> \n"
   ]
  },
  {
   "cell_type": "markdown",
   "metadata": {},
   "source": [
    "<h1 align=\"center\";> </h1>\n",
    "<div>\n",
    "    <h1 class=\"text-center\">\n",
    "        <span class=\"text-primary\">1.3</span>\n",
    "        &nbsp;\n",
    "        <span class=\"\">Create service client </span>\n",
    "    </h1>\n",
    "</div>"
   ]
  },
  {
   "cell_type": "markdown",
   "metadata": {},
   "source": [
    "1. Create a service client that interacts with the server you just wrote\n",
    "2. The client will call for the service offered by the server and perform the movement\n",
    "3. Once the RB1 reaches the loading position, then a success will be returned\n"
   ]
  },
  {
   "cell_type": "markdown",
   "metadata": {},
   "source": [
    "Remember, the RB1 will start from the same position every time, and has to end in the loading position."
   ]
  },
  {
   "cell_type": "markdown",
   "metadata": {},
   "source": [
    "<div>\n",
    "    <h1 class=\"text-center\">\n",
    "        <span class=\"text-primary\">1.4</span>\n",
    "        &nbsp;\n",
    "        <span class=\"\">Replace service server with action server</span>\n",
    "    </h1>\n",
    "</div>"
   ]
  },
  {
   "cell_type": "markdown",
   "metadata": {},
   "source": [
    "Now that the RB1 moves to the loading position with services, you have to **replace service server with an action server that provides two types of feedback: robot status and distance to wall**:\n",
    "\n",
    "1. Create an action server that, when called, starts movement and provides status and position fedback\n",
    "2. Add a call to the action server from the movement node\n",
    "3. Include the launch of the action server in the launch file you used for the service server\n",
    "\n"
   ]
  },
  {
   "cell_type": "markdown",
   "metadata": {},
   "source": [
    "<h1 align=\"center\";> </h1>\n",
    "<div>\n",
    "    <h1 class=\"text-center\">\n",
    "        <span class=\"text-primary\">1.5</span>\n",
    "        &nbsp;\n",
    "        <span class=\"\">Create action server </span>\n",
    "    </h1>\n",
    "</div>"
   ]
  },
  {
   "cell_type": "markdown",
   "metadata": {},
   "source": [
    "* Create a node that contains an action server. This server uses an action message you have to create, say `GoToLoadingWithF.action`:"
   ]
  },
  {
   "cell_type": "code",
   "execution_count": null,
   "metadata": {},
   "outputs": [],
   "source": [
    "# goal\n",
    "string init_state\n",
    "---\n",
    "# result\n",
    "bool complete\n",
    "---\n",
    "# feedback\n",
    "string status\n",
    "float64 distance_to_wall"
   ]
  },
  {
   "cell_type": "markdown",
   "metadata": {},
   "source": [
    "* This server will do the same as the service server (move RB-1 to loading position), while providing two feedback messages\n",
    "* `status` feedback: describes what the robot is doing: MOVING FORWARD, TURNING, STOPPED\n",
    "* `distance_to_wall` feedback: like the name suggests, the current distance of the robot to the detected wall ahead\n",
    "* When the RB1 stops in the loading position, the action will complete successfully \n",
    "* Don't forget to pick up the shelf when the robot stops at the loading postion"
   ]
  },
  {
   "cell_type": "markdown",
   "metadata": {},
   "source": [
    "<h1 align=\"center\";> </h1>\n",
    "<div>\n",
    "    <h1 class=\"text-center\">\n",
    "        <span class=\"text-primary\">1.6</span>\n",
    "        &nbsp;\n",
    "        <span class=\"\">Integrate action server to movement launch </span>\n",
    "    </h1>\n",
    "</div>"
   ]
  },
  {
   "cell_type": "markdown",
   "metadata": {},
   "source": [
    "* Include the action server node to the main launch file. You can delete the service server at this point. This new launch file should start the RB1 movement and provide the feedback described"
   ]
  },
  {
   "cell_type": "markdown",
   "metadata": {},
   "source": [
    "<div>\n",
    "    <h1 class=\"text-center\">\n",
    "        <span class=\"text-primary\">Part 2</span>\n",
    "        &nbsp;\n",
    "        <span class=\"\">Connect to the Real Robot</span>\n",
    "    </h1>\n",
    "</div>"
   ]
  },
  {
   "cell_type": "markdown",
   "metadata": {},
   "source": [
    "Once your program works in the simulation, you can connect to the real robot. One at a time please! We'll create a queue and make sure you can see the lidar messages once connected. **Make sure you ask before you connect, someone else might be using it.**\n",
    "\n",
    "**NOTES:**\n",
    "* Once you want to connect to the real robot, **ALL** terminals that you have will get killed, which means all nodes you have launched will need to be launched again. \n",
    "* You do not need the simulation when you are using the real robot. You are in fact replacing one for the other\n",
    "* Always remember to have a dedicated terminal to launch the `ros1_bridge`\n",
    "* You can move the RB-1 with the joystick next to the camera, as well as the UR3e with the joint sliders."
   ]
  },
  {
   "cell_type": "markdown",
   "metadata": {},
   "source": [
    "Click on the robot icon on the bottom left of your screen:"
   ]
  },
  {
   "cell_type": "markdown",
   "metadata": {},
   "source": [
    "<img src=\"images/robot_connect_icon.png\"/>"
   ]
  },
  {
   "cell_type": "markdown",
   "metadata": {},
   "source": [
    "Then, look for the RB-1 and click on Connect. Wait a bit for the connection and then once the terminal icon stops spinning, you should be connected:"
   ]
  },
  {
   "cell_type": "markdown",
   "metadata": {},
   "source": [
    "<img src=\"images/rb1_connect.gif\"/>"
   ]
  },
  {
   "cell_type": "markdown",
   "metadata": {},
   "source": [
    "Once connected, check that you can see the infamous `/scan` topic, this can be done in ROS1:"
   ]
  },
  {
   "cell_type": "markdown",
   "metadata": {},
   "source": [
    "<span class=\"badge badge-pill badge-primary\">\n",
    "    <i class=\"fa fa-play\"></i>\n",
    "    &nbsp;\n",
    "    Execute in Terminal #1\n",
    "</span>"
   ]
  },
  {
   "cell_type": "code",
   "execution_count": null,
   "metadata": {},
   "outputs": [],
   "source": [
    "source /opt/ros/noetic/setup.bash\n",
    "rostopic list\n",
    "rostopic echo /scan"
   ]
  },
  {
   "cell_type": "markdown",
   "metadata": {},
   "source": [
    "If you see it, then launch the `ros1_bridge` in order to see the topics in ROS2, following the same instructions from Part 2.\n",
    "\n",
    "Now rotate the RB1:"
   ]
  },
  {
   "cell_type": "code",
   "execution_count": null,
   "metadata": {},
   "outputs": [],
   "source": [
    "ros2 topic pub --rate 10 /robot/cmd_vel geometry_msgs/msg/Twist \"{linear: {x: 0.0, y: 0, z: 0.0}, angular: {x: 0.0, y: 0.0, z: 0.2}}\""
   ]
  },
  {
   "cell_type": "markdown",
   "metadata": {},
   "source": [
    "If you see the robot spin, That's it! You are ready to start working."
   ]
  },
  {
   "cell_type": "markdown",
   "metadata": {},
   "source": [
    "You can also move the robot using the joystick next to the camera, or connecting your own USB controller to your computer once the connection has been established:\n",
    "<img src=\"images/rb1_joystick.gif\"/>"
   ]
  }
 ],
 "metadata": {
  "anaconda-cloud": {},
  "kernelspec": {
   "display_name": "Python 2",
   "language": "python",
   "name": "python2"
  },
  "language_info": {
   "codemirror_mode": {
    "name": "ipython",
    "version": 2
   },
   "file_extension": ".py",
   "mimetype": "text/x-python",
   "name": "python",
   "nbconvert_exporter": "python",
   "pygments_lexer": "ipython2",
   "version": "2.7.16"
  }
 },
 "nbformat": 4,
 "nbformat_minor": 1
}
